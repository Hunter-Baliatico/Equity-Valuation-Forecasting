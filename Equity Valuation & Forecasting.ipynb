{
 "cells": [
  {
   "cell_type": "code",
   "execution_count": 51,
   "id": "ef226650",
   "metadata": {},
   "outputs": [
    {
     "name": "stdout",
     "output_type": "stream",
     "text": 
     ]
    },
    {
     "name": "stderr",
     "output_type": "stream",
     "text": [
      "\n",
      "[notice] A new release of pip is available: 24.0 -> 25.2\n",
      "[notice] To update, run: C:\\Users\\Hunte\\AppData\\Local\\Microsoft\\WindowsApps\\PythonSoftwareFoundation.Python.3.11_qbz5n2kfra8p0\\python.exe -m pip install --upgrade pip\n"
     ]
    }
   ],
   "source": [
    "%pip install pandas numpy matplotlib scikit-learn"
   ]
  },
  {
   "cell_type": "code",
   "execution_count": 52,
   "id": "ca5a86fa",
   "metadata": {},
   "outputs": [],
   "source": [
    "# Data manipulation\n",
    "import pandas as pd\n",
    "import numpy as np\n",
    "\n",
    "# Visualization\n",
    "import matplotlib.pyplot as plt\n",
    "\n",
    "# Machine learning\n",
    "from sklearn.model_selection import train_test_split\n",
    "from sklearn.linear_model import LinearRegression\n",
    "from sklearn.metrics import accuracy_score, mean_squared_error\n"
   ]
  },
  {
   "cell_type": "code",
   "execution_count": 53,
   "id": "e305dd42",
   "metadata": {},
   "outputs": [],
   "source": [
    "df = pd.read_csv(\"all_stock_data.csv\")\n",
    "df['Date'] = pd.to_datetime(df['Date'])"
   ]
  },
  {
   "cell_type": "code",
   "execution_count": 54,
   "id": "44cf9c1a",
   "metadata": {},
   "outputs": [
    {
     "name": "stdout",
     "output_type": "stream",
     "text": [
      "Unique tickers: 9315\n",
      "Date range: 1962-01-02 to 2024-11-04\n"
     ]
    }
   ],
   "source": [
    "unique_tickers = df['Ticker'].nunique()\n",
    "min_date = df['Date'].min()\n",
    "max_date = df['Date'].max()\n",
    "\n",
    "print(\"Unique tickers:\", unique_tickers)\n",
    "print(\"Date range:\", min_date.date(), \"to\", max_date.date())"
   ]
  },
  {
   "cell_type": "code",
   "execution_count": 55,
   "id": "ad165477",
   "metadata": {},
   "outputs": [
    {
     "name": "stdout",
     "output_type": "stream",
     "text": [
      "Nulls:\n",
      " Open            109\n",
      "High            109\n",
      "Low             109\n",
      "Close           106\n",
      "Volume            0\n",
      "Dividends         0\n",
      "Stock Splits      0\n",
      "dtype: int64\n",
      "Zeroes:\n",
      " Open      1106208\n",
      "High          934\n",
      "Low           950\n",
      "Close         936\n",
      "Volume    4586979\n",
      "dtype: int64\n"
     ]
    }
   ],
   "source": [
    "null_counts = df[['Open', 'High', 'Low', 'Close', 'Volume', 'Dividends', 'Stock Splits']].isnull().sum()\n",
    "zero_counts = (df[['Open', 'High', 'Low', 'Close', 'Volume']] == 0).sum()\n",
    "\n",
    "print(\"Nulls:\\n\", null_counts)\n",
    "print(\"Zeroes:\\n\", zero_counts)"
   ]
  },
  {
   "cell_type": "code",
   "execution_count": 56,
   "id": "8117db33",
   "metadata": {},
   "outputs": [
    {
     "name": "stdout",
     "output_type": "stream",
     "text": [
      "Negative values:\n",
      " Open      85929\n",
      "High      90279\n",
      "Low       90279\n",
      "Close     90279\n",
      "Volume        0\n",
      "dtype: int64\n"
     ]
    }
   ],
   "source": [
    "negative_values = df[['Open', 'High', 'Low', 'Close', 'Volume']].lt(0).sum()\n",
    "print(\"Negative values:\\n\", negative_values)"
   ]
  },
  {
   "cell_type": "code",
   "execution_count": 57,
   "id": "2100ce6f",
   "metadata": {},
   "outputs": [
    {
     "name": "stdout",
     "output_type": "stream",
     "text": [
      "Tickers with >5 day trading gaps:\n",
      " Ticker\n",
      "PCG-PG     270\n",
      "PCG-PH     250\n",
      "PCG-PE     232\n",
      "ORMNF      158\n",
      "GDL-PC      96\n",
      "PCG-PB      84\n",
      "HWM-P       78\n",
      "PHGE-UN     68\n",
      "PCG-PD      67\n",
      "CTA-PA      66\n",
      "Name: count, dtype: int64\n"
     ]
    }
   ],
   "source": [
    "df_sorted = df.sort_values(by=['Ticker', 'Date'])\n",
    "df_sorted['PrevDate'] = df_sorted.groupby('Ticker')['Date'].shift(1)\n",
    "df_sorted['DeltaDays'] = (df_sorted['Date'] - df_sorted['PrevDate']).dt.days\n",
    "\n",
    "# Show tickers with frequent long gaps\n",
    "\n",
    "gap_threshold = 5\n",
    "gap_counts = df_sorted[df_sorted['DeltaDays'] > gap_threshold]['Ticker'].value_counts().head(10)\n",
    "\n",
    "print(\"Tickers with >5 day trading gaps:\\n\", gap_counts)"
   ]
  },
  {
   "cell_type": "code",
   "execution_count": 58,
   "id": "2271e6bf",
   "metadata": {},
   "outputs": [],
   "source": [
    "df_clean = df.dropna(subset=['Close'])"
   ]
  },
  {
   "cell_type": "code",
   "execution_count": 59,
   "id": "99c9394a",
   "metadata": {},
   "outputs": [],
   "source": [
    "df_filtered = df_clean[(df_clean['Close'] > 0) & (df_clean['Volume'] > 0)]"
   ]
  },
  {
   "cell_type": "code",
   "execution_count": 60,
   "id": "ee7e6c83",
   "metadata": {},
   "outputs": [],
   "source": [
    "df_filtered = df_clean[(df_clean['Close'] > 0) & (df_clean['Volume'] > 0)]"
   ]
  },
  {
   "cell_type": "code",
   "execution_count": 61,
   "id": "a039d3eb",
   "metadata": {},
   "outputs": [],
   "source": [
    "active_tickers = (\n",
    "    df_filtered.groupby(['Ticker', df_filtered['Date'].dt.year])\n",
    "    .size()\n",
    "    .reset_index(name='trading_days')\n",
    ")\n",
    "\n",
    "# Keep only tickers active at least 150 days/year from 2020 onwards\n",
    "recent_active = active_tickers[\n",
    "    (active_tickers['Date'] >= 2020) & (active_tickers['trading_days'] >= 150)\n",
    "]['Ticker'].unique()\n",
    "\n",
    "df_final = df_filtered[df_filtered['Ticker'].isin(recent_active)]"
   ]
  },
  {
   "cell_type": "code",
   "execution_count": 62,
   "id": "a75ee0ad",
   "metadata": {},
   "outputs": [
    {
     "name": "stdout",
     "output_type": "stream",
     "text": [
      "Shape: (29437596, 9)\n",
      "Columns: ['Date', 'Ticker', 'Open', 'High', 'Low', 'Close', 'Volume', 'Dividends', 'Stock Splits']\n",
      "Sample rows:\n",
      "        Date Ticker  Open      High       Low     Close     Volume  Dividends  \\\n",
      "0 1962-01-02     ED   0.0  0.265828  0.261788  0.261788    25600.0        0.0   \n",
      "1 1962-01-02    CVX   0.0  0.046809  0.046069  0.046809   105840.0        0.0   \n",
      "2 1962-01-02     GD   0.0  0.210033  0.203061  0.208290  2648000.0        0.0   \n",
      "3 1962-01-02     BP   0.0  0.141439  0.139528  0.139528    77440.0        0.0   \n",
      "4 1962-01-02    MSI   0.0  0.764923  0.745254  0.751810    65671.0        0.0   \n",
      "\n",
      "   Stock Splits  \n",
      "0           0.0  \n",
      "1           0.0  \n",
      "2           0.0  \n",
      "3           0.0  \n",
      "4           0.0  \n"
     ]
    }
   ],
   "source": [
    "print(\"Shape:\", df_final.shape)\n",
    "print(\"Columns:\", df_final.columns.tolist())\n",
    "print(\"Sample rows:\")\n",
    "print(df_final.head())"
   ]
  },
  {
   "cell_type": "code",
   "execution_count": 63,
   "id": "b9de97db",
   "metadata": {},
   "outputs": [
    {
     "name": "stdout",
     "output_type": "stream",
     "text": [
      "Top 10 tickers by row count:\n",
      " Ticker\n",
      "CVX    15819\n",
      "ED     15819\n",
      "MMM    15819\n",
      "DIS    15819\n",
      "GT     15819\n",
      "FL     15819\n",
      "XOM    15819\n",
      "IP     15819\n",
      "KO     15819\n",
      "HPQ    15819\n",
      "Name: count, dtype: int64\n"
     ]
    }
   ],
   "source": [
    "top_tickers = df_final['Ticker'].value_counts().head(10)\n",
    "print(\"Top 10 tickers by row count:\\n\", top_tickers)"
   ]
  },
  {
   "cell_type": "code",
   "execution_count": 64,
   "id": "1e227a1b",
   "metadata": {},
   "outputs": [
    {
     "name": "stderr",
     "output_type": "stream",
     "text": [
      "C:\\Users\\Hunte\\AppData\\Local\\Temp\\ipykernel_29820\\868674596.py:1: SettingWithCopyWarning: \n",
      "A value is trying to be set on a copy of a slice from a DataFrame.\n",
      "Try using .loc[row_indexer,col_indexer] = value instead\n",
      "\n",
      "See the caveats in the documentation: https://pandas.pydata.org/pandas-docs/stable/user_guide/indexing.html#returning-a-view-versus-a-copy\n",
      "  df_final['Year'] = df_final['Date'].dt.year\n"
     ]
    },
    {
     "data": {
      "image/png": "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",
      "text/plain": [
       "<Figure size 1000x400 with 1 Axes>"
      ]
     },
     "metadata": {},
     "output_type": "display_data"
    }
   ],
   "source": [
    "df_final['Year'] = df_final['Date'].dt.year\n",
    "\n",
    "volume_by_year = (\n",
    "    df_final.groupby('Year')['Volume']\n",
    "    .sum()\n",
    "    .reset_index()\n",
    ")\n",
    "\n",
    "import matplotlib.pyplot as plt\n",
    "\n",
    "plt.figure(figsize=(10, 4))\n",
    "plt.plot(volume_by_year['Year'], volume_by_year['Volume'] / 1e9)\n",
    "plt.title(\"Total Trading Volume by Year (Billions)\")\n",
    "plt.xlabel(\"Year\")\n",
    "plt.ylabel(\"Volume (Billions)\")\n",
    "plt.grid(True)\n",
    "plt.tight_layout()\n",
    "plt.show()\n"
   ]
  },
  {
   "cell_type": "code",
   "execution_count": 65,
   "id": "575cf9ed",
   "metadata": {},
   "outputs": [
    {
     "data": {
      "image/png": "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",
      "text/plain": [
       "<Figure size 1000x400 with 1 Axes>"
      ]
     },
     "metadata": {},
     "output_type": "display_data"
    }
   ],
   "source": [
    "sample = df_final[df_final['Ticker'] == 'AAPL'].sort_values('Date')\n",
    "\n",
    "plt.figure(figsize=(10, 4))\n",
    "plt.plot(sample['Date'], sample['Close'])\n",
    "plt.title(\"AAPL Closing Price Over Time\")\n",
    "plt.xlabel(\"Date\")\n",
    "plt.ylabel(\"Price (USD)\")\n",
    "plt.grid(True)\n",
    "plt.tight_layout()\n",
    "plt.show()"
   ]
  },
  {
   "cell_type": "code",
   "execution_count": 66,
   "id": "b20fc1e5",
   "metadata": {},
   "outputs": [
    {
     "name": "stdout",
     "output_type": "stream",
     "text": [
      "3176 out of 7990 tickers issued dividends\n"
     ]
    }
   ],
   "source": [
    "dividend_tickers = df_final[df_final['Dividends'] > 0]['Ticker'].nunique()\n",
    "total_tickers = df_final['Ticker'].nunique()\n",
    "print(f\"{dividend_tickers} out of {total_tickers} tickers issued dividends\")"
   ]
  },
  {
   "cell_type": "code",
   "execution_count": 67,
   "id": "9db4b685",
   "metadata": {},
   "outputs": [
    {
     "data": {
      "text/plain": [
       "0          -0.582051\n",
       "1          -1.329672\n",
       "2          -0.681332\n",
       "3          -0.855339\n",
       "4          -0.123892\n",
       "              ...   \n",
       "34646253    1.156701\n",
       "34646254    0.130334\n",
       "34646255   -0.522734\n",
       "34646256    1.635936\n",
       "34646257    1.653213\n",
       "Name: Close, Length: 29437596, dtype: float64"
      ]
     },
     "execution_count": 67,
     "metadata": {},
     "output_type": "execute_result"
    }
   ],
   "source": [
    "df_final[df_final['Close'] > 0]['Close'].clip(upper=500).apply(np.log10)"
   ]
  },
  {
   "cell_type": "code",
   "execution_count": 68,
   "id": "b85725d3",
   "metadata": {},
   "outputs": [],
   "source": [
    "df_filtered = df_clean[(df_clean['Close'] > 0) & (df_clean['Volume'] > 0)]"
   ]
  },
  {
   "cell_type": "code",
   "execution_count": 69,
   "id": "8a3230fd",
   "metadata": {},
   "outputs": [],
   "source": [
    "df_filtered = df_final[df_final['Date'] >= '1990-01-01'].copy()"
   ]
  },
  {
   "cell_type": "code",
   "execution_count": 70,
   "id": "a3d800fb",
   "metadata": {},
   "outputs": [],
   "source": [
    "df_filtered['ValidPrice'] = df_filtered['Close'].between(1, 1000)\n",
    "df_filtered['NonZeroVolume'] = df_filtered['Volume'] > 0\n",
    "df_filtered['ValidRow'] = df_filtered['ValidPrice'] & df_filtered['NonZeroVolume']\n",
    "df_filtered['HasDividend'] = df_filtered['Dividends'] > 0"
   ]
  },
  {
   "cell_type": "code",
   "execution_count": 71,
   "id": "ae84e4c6",
   "metadata": {},
   "outputs": [
    {
     "name": "stdout",
     "output_type": "stream",
     "text": [
      "Nulls:\n",
      " Open      0\n",
      "High      0\n",
      "Low       0\n",
      "Close     0\n",
      "Volume    0\n",
      "dtype: int64\n",
      "Distinct Tickers: 7990\n"
     ]
    }
   ],
   "source": [
    "nulls = df_filtered[['Open', 'High', 'Low', 'Close', 'Volume']].isnull().sum()\n",
    "distincts = df_filtered[['Ticker']].nunique()\n",
    "\n",
    "print(\"Nulls:\\n\", nulls)\n",
    "print(\"Distinct Tickers:\", distincts['Ticker'])"
   ]
  },
  {
   "cell_type": "code",
   "execution_count": 72,
   "id": "821991b2",
   "metadata": {},
   "outputs": [
    {
     "data": {
      "image/png": "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",
      "text/plain": [
       "<Figure size 1000x400 with 1 Axes>"
      ]
     },
     "metadata": {},
     "output_type": "display_data"
    },
    {
     "data": {
      "image/png": "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",
      "text/plain": [
       "<Figure size 1000x400 with 1 Axes>"
      ]
     },
     "metadata": {},
     "output_type": "display_data"
    }
   ],
   "source": [
    "## Closing Price Distribution (Filtered)\n",
    "import numpy as np\n",
    "import matplotlib.pyplot as plt\n",
    "\n",
    "valid_close = df_filtered[df_filtered['ValidPrice']]['Close']\n",
    "np.log10(valid_close).hist(bins=80, figsize=(10, 4))\n",
    "plt.title(\"Log-Scaled Distribution of Valid Closing Prices\")\n",
    "plt.xlabel(\"log10(Price)\")\n",
    "plt.ylabel(\"Frequency\")\n",
    "plt.grid(True)\n",
    "plt.show()\n",
    "\n",
    "## Volume Distribution\n",
    "np.log10(df_filtered[df_filtered['NonZeroVolume']]['Volume']).hist(bins=80, figsize=(10, 4))\n",
    "plt.title(\"Log-Scaled Distribution of Daily Volume\")\n",
    "plt.xlabel(\"log10(Volume)\")\n",
    "plt.ylabel(\"Frequency\")\n",
    "plt.grid(True)\n",
    "plt.show()\n"
   ]
  },
  {
   "cell_type": "code",
   "execution_count": 73,
   "id": "bc28ac0d",
   "metadata": {},
   "outputs": [],
   "source": [
    "# Only count valid days for valid prices and volume\n",
    "activity = (\n",
    "    df_filtered[df_filtered['ValidRow']]\n",
    "    .groupby('Ticker')['Date']\n",
    "    .nunique()\n",
    "    .reset_index(name='ActiveDays')\n",
    ")\n",
    "\n",
    "# Keep only tickers with >=150 trading days per year (average)\n",
    "activity['AvgDaysPerYear'] = activity['ActiveDays'] / (2024 - 1990 + 1)\n",
    "liquid_tickers = activity[activity['AvgDaysPerYear'] >= 150]['Ticker']\n",
    "\n",
    "# Final dataset\n",
    "df_valid = df_filtered[df_filtered['Ticker'].isin(liquid_tickers)]"
   ]
  },
  {
   "cell_type": "code",
   "execution_count": 74,
   "id": "86c80d57",
   "metadata": {},
   "outputs": [
    {
     "name": "stdout",
     "output_type": "stream",
     "text": [
      "Total Tickers: 7990\n",
      "Valid Price Range ($1–$1000): 0.91\n",
      "Non-Zero Volume: 1.00\n",
      "Dividend Tickers: 0.01\n",
      "After Liquidity Filter: 2017\n"
     ]
    }
   ],
   "source": [
    "profiling_report = {\n",
    "    'Total Tickers': df_filtered['Ticker'].nunique(),\n",
    "    'Valid Price Range ($1–$1000)': df_filtered['ValidPrice'].mean(),\n",
    "    'Non-Zero Volume': df_filtered['NonZeroVolume'].mean(),\n",
    "    'Dividend Tickers': df_filtered['HasDividend'].mean(),\n",
    "    'After Liquidity Filter': df_valid['Ticker'].nunique()\n",
    "}\n",
    "\n",
    "for k, v in profiling_report.items():\n",
    "    print(f\"{k}: {v:.2f}\" if isinstance(v, float) else f\"{k}: {v}\")\n"
   ]
  },
  {
   "cell_type": "code",
   "execution_count": 75,
   "id": "d091a804",
   "metadata": {},
   "outputs": [],
   "source": [
    "# Keep only valid rows (price range, non-zero volume)\n",
    "df_valid = df_filtered[df_filtered['ValidRow']].copy()\n",
    "\n",
    "# Restrict to liquid tickers\n",
    "df_valid = df_valid[df_valid['Ticker'].isin(liquid_tickers)]"
   ]
  },
  {
   "cell_type": "code",
   "execution_count": 76,
   "id": "4a0bd948",
   "metadata": {},
   "outputs": [],
   "source": [
    "df_valid['Date'] = pd.to_datetime(df_valid['Date'])\n",
    "df_valid['Volume'] = df_valid['Volume'].astype(int)\n",
    "df_valid['Dividends'] = df_valid['Dividends'].astype(float)\n",
    "df_valid['Stock Splits'] = df_valid['Stock Splits'].astype(float)"
   ]
  },
  {
   "cell_type": "code",
   "execution_count": 77,
   "id": "35baad06",
   "metadata": {},
   "outputs": [],
   "source": [
    "ticker_master = (\n",
    "    df_valid.groupby('Ticker')\n",
    "    .agg(\n",
    "        First_Date=('Date', 'min'),\n",
    "        Last_Date=('Date', 'max'),\n",
    "        Days_Covered=('Date', 'nunique'),\n",
    "        Total_Volume=('Volume', 'sum'),\n",
    "        Issued_Dividends=('Dividends', lambda x: (x > 0).any())\n",
    "    )\n",
    "    .reset_index()\n",
    ")"
   ]
  },
  {
   "cell_type": "code",
   "execution_count": 78,
   "id": "66684df9",
   "metadata": {},
   "outputs": [],
   "source": [
    "df_valid['Year'] = df_valid['Date'].dt.year\n",
    "df_valid['Month'] = df_valid['Date'].dt.month\n",
    "df_valid['YearMonth'] = df_valid['Date'].dt.to_period('M').astype(str)"
   ]
  },
  {
   "cell_type": "code",
   "execution_count": 79,
   "id": "0e7017cf",
   "metadata": {},
   "outputs": [],
   "source": [
    "monthly_summary = (\n",
    "    df_valid\n",
    "    .groupby(['Ticker', 'YearMonth'])\n",
    "    .agg(\n",
    "        Open_Price=('Open', 'first'),\n",
    "        Close_Price=('Close', 'last'),\n",
    "        High_Price=('High', 'max'),\n",
    "        Low_Price=('Low', 'min'),\n",
    "        Avg_Volume=('Volume', 'mean'),\n",
    "        Total_Volume=('Volume', 'sum'),\n",
    "        Monthly_Return=('Close', lambda x: (x.iloc[-1] / x.iloc[0]) - 1 if len(x) > 1 else 0),\n",
    "        Total_Dividends=('Dividends', 'sum')\n",
    "    )\n",
    "    .reset_index()\n",
    ")"
   ]
  },
  {
   "cell_type": "code",
   "execution_count": 80,
   "id": "215d9642",
   "metadata": {},
   "outputs": [],
   "source": [
    "dividend_tickers = ticker_master[ticker_master['Issued_Dividends']]['Ticker']\n",
    "dividend_data = monthly_summary[monthly_summary['Ticker'].isin(dividend_tickers)]"
   ]
  },
  {
   "cell_type": "code",
   "execution_count": 81,
   "id": "47d8d86d",
   "metadata": {},
   "outputs": [],
   "source": [
    "import numpy as np\n",
    "\n",
    "df_valid = df_valid.sort_values(['Ticker', 'Date'])\n",
    "\n",
    "df_valid['LogReturn'] = (\n",
    "    df_valid.groupby('Ticker')['Close']\n",
    "    .transform(lambda x: np.log(x / x.shift(1)))\n",
    ")"
   ]
  },
  {
   "cell_type": "code",
   "execution_count": 82,
   "id": "44885e13",
   "metadata": {},
   "outputs": [],
   "source": [
    "monthly_volatility = (\n",
    "    df_valid.groupby(['Ticker', 'YearMonth'])\n",
    "    .agg(\n",
    "        Monthly_Volatility=('LogReturn', 'std'),\n",
    "        Monthly_Return=('Close', lambda x: (x.iloc[-1] / x.iloc[0]) - 1 if len(x) > 1 else 0),\n",
    "        Start_Price=('Close', 'first'),\n",
    "        End_Price=('Close', 'last')\n",
    "    )\n",
    "    .reset_index()\n",
    ")\n"
   ]
  },
  {
   "cell_type": "code",
   "execution_count": 83,
   "id": "19fa21df",
   "metadata": {},
   "outputs": [],
   "source": [
    "# Ensure proper datetime order\n",
    "df_valid['YearMonth_dt'] = pd.to_datetime(df_valid['YearMonth'], format='%Y-%m')\n",
    "\n",
    "# Calculate 12-month rolling CAGR-like returns\n",
    "rolling_cagr = (\n",
    "    df_valid.groupby('Ticker', group_keys=False)\n",
    "    .apply(lambda group: group.set_index('Date')['Close']\n",
    "           .resample('ME')  # Changed from 'M' to 'ME'\n",
    "           .last()\n",
    "           .pct_change(periods=12, fill_method=None)  # Added fill_method=None\n",
    "           .multiply(100), include_groups=False)  # Added include_groups=False\n",
    "    .reset_index()\n",
    "    .rename(columns={'Close': 'Rolling_12M_Return'})\n",
    ")\n"
   ]
  },
  {
   "cell_type": "code",
   "execution_count": 84,
   "id": "8d9fefc7",
   "metadata": {},
   "outputs": [],
   "source": [
    "# Remove duplicated column\n",
    "monthly_volatility = monthly_volatility.drop(columns=['Monthly_Return'], errors='ignore')\n",
    "\n",
    "# Using the correct sufixes\n",
    "monthly_summary = monthly_summary.merge(\n",
    "    monthly_volatility,\n",
    "    on=['Ticker', 'YearMonth'],\n",
    "    how='left',\n",
    "    suffixes=('_summary', '_volatility')\n",
    ")\n",
    "\n",
    "# Flag Data Quality for Modeling\n",
    "\n",
    "monthly_summary['QualityFlag'] = 'OK'\n",
    "monthly_summary.loc[monthly_summary['Monthly_Volatility'].isna(), 'QualityFlag'] = 'Missing Volatility'\n",
    "monthly_summary.loc[monthly_summary['Monthly_Return'].isna(), 'QualityFlag'] = 'Missing Return'\n"
   ]
  },
  {
   "cell_type": "code",
   "execution_count": 85,
   "id": "abad74d0",
   "metadata": {},
   "outputs": [
    {
     "name": "stdout",
     "output_type": "stream",
     "text": [
      "     Ticker  Start_Price   End_Price  Years      CAGR\n",
      "0         A    74.397118  130.100006      5  0.118264\n",
      "1        AA    29.615324   29.750000      5  0.000908\n",
      "2      AAME     2.664657    2.720000      5  0.004120\n",
      "3      AAON    24.045561   70.160004      5  0.238828\n",
      "4       AAP   155.036697   66.849998      5 -0.154851\n",
      "...     ...          ...         ...    ...       ...\n",
      "1965   ZBRA   173.600006  239.550003      5  0.066521\n",
      "1966     ZD    65.356522   67.400002      5  0.006177\n",
      "1967   ZEUS    19.002432   67.580002      5  0.288848\n",
      "1968   ZION    44.059116   41.900002      5 -0.009999\n",
      "1969    ZTR     7.569129    5.320000      5 -0.068092\n",
      "\n",
      "[1970 rows x 5 columns]\n"
     ]
    }
   ],
   "source": [
    "from numpy import log\n",
    "\n",
    "# Define start and end period for CAGR\n",
    "cagr_start = '2019-01'\n",
    "cagr_end = '2024-01'\n",
    "\n",
    "# Filter for those months\n",
    "start_prices = monthly_summary[monthly_summary['YearMonth'] == cagr_start][['Ticker', 'Close_Price']].rename(columns={'Close_Price': 'Start_Price'})\n",
    "end_prices = monthly_summary[monthly_summary['YearMonth'] == cagr_end][['Ticker', 'Close_Price']].rename(columns={'Close_Price': 'End_Price'})\n",
    "\n",
    "# Merge and calculate CAGR\n",
    "cagr_df = start_prices.merge(end_prices, on='Ticker')\n",
    "cagr_df['Years'] = 5\n",
    "cagr_df['CAGR'] = (cagr_df['End_Price'] / cagr_df['Start_Price']) ** (1 / cagr_df['Years']) - 1\n",
    "\n",
    "print(cagr_df)\n",
    "\n"
   ]
  },
  {
   "cell_type": "code",
   "execution_count": 86,
   "id": "eb200624",
   "metadata": {},
   "outputs": [
    {
     "name": "stdout",
     "output_type": "stream",
     "text": [
      "     Ticker  Start_Price   End_Price  Years      CAGR  Avg_Volatility  \\\n",
      "1548   SAVA     1.170000   23.950001      5  0.829043        0.048689   \n",
      "34     AEHR     1.250000   14.850000      5  0.640451        0.049037   \n",
      "290    CAMT     6.873127   77.839996      5  0.624837        0.034659   \n",
      "801    HDSN     1.170000   12.680000      5  0.610596        0.048428   \n",
      "827     HOV    17.750000  168.970001      5  0.569359        0.037180   \n",
      "133    ATLC     3.850000   34.689999      5  0.552204        0.040998   \n",
      "129   ATEYY     4.671347   39.730000      5  0.534388        0.026484   \n",
      "423    CRIS     1.170000    9.900000      5  0.532815        0.048608   \n",
      "1042   LSCC     7.800000   60.860001      5  0.508160        0.033504   \n",
      "901    INOD     1.350000   10.370000      5  0.503450        0.042716   \n",
      "1506   RMBS     9.020000   68.529999      5  0.500151        0.036482   \n",
      "1542   SAIA    59.970001  450.579987      5  0.496813        0.027391   \n",
      "576    ELTK     2.360000   17.100000      5  0.485993        0.053545   \n",
      "521     DRS     2.730000   19.410000      5  0.480378        0.043225   \n",
      "1470   RCMT     3.970000   27.549999      5  0.473215        0.037147   \n",
      "73      AMD    24.410000  167.690002      5  0.470239        0.035319   \n",
      "15     ACLS    20.830000  130.050003      5  0.442395        0.038116   \n",
      "487     DDS    62.307838  387.269989      5  0.441100        0.026924   \n",
      "291     CAR    26.639999  163.710007      5  0.437832        0.030857   \n",
      "321    CDNS    48.029999  288.459991      5  0.431247        0.025137   \n",
      "1272   NVMI    24.650000  144.809998      5  0.424939        0.031682   \n",
      "490    DECK    21.408333  125.621666      5  0.424611        0.027216   \n",
      "615     ETN    42.045170  246.080002      5  0.423876        0.016795   \n",
      "977    KLAC   101.580284  594.039978      5  0.423644        0.028688   \n",
      "1029    LLY   112.723442  645.609985      5  0.417722        0.015795   \n",
      "1623   SNPS    93.349998  533.349976      5  0.417032        0.022020   \n",
      "1669   STRL    13.240000   75.099998      5  0.414980        0.043912   \n",
      "1447    PWR    34.934944  194.050003      5  0.409064        0.026719   \n",
      "700     FRO     4.218949   22.690001      5  0.399994        0.034192   \n",
      "368    CLMB    10.540000   55.220001      5  0.392679        0.027856   \n",
      "144    AVDL     2.780000   14.390000      5  0.389323        0.047021   \n",
      "121    ASML   170.223083  869.820007      5  0.385741        0.027059   \n",
      "1810   UFPT    33.000000  168.509995      5  0.385550        0.042128   \n",
      "90      ANF    20.404356  101.900002      5  0.379400        0.031908   \n",
      "1832    URI   125.260002  625.400024      5  0.379333        0.029080   \n",
      "1059   MANH    48.770000  242.559998      5  0.378267        0.029082   \n",
      "1763   TRNS    22.400000  110.040001      5  0.374866        0.043047   \n",
      "879    IESC    16.740000   81.959999      5  0.373945        0.036299   \n",
      "158    AXON    51.009998  249.059998      5  0.373187        0.032540   \n",
      "937     JBL    25.931246  125.290001      5  0.370309        0.029201   \n",
      "876     IDT     7.180000   34.580002      5  0.369431        0.027397   \n",
      "1107    MHO    26.490000  127.419998      5  0.369087        0.026644   \n",
      "506     DKS    31.305227  149.070007      5  0.366327        0.023536   \n",
      "47     AGYS    17.700001   83.709999      5  0.364460        0.030164   \n",
      "1130    MOD    14.630000   69.089996      5  0.364062        0.027850   \n",
      "667     FIX    46.816536  217.470001      5  0.359565        0.026193   \n",
      "1819    UMC     1.671831    7.710000      5  0.357602        0.026277   \n",
      "363    CLDX     7.650000   35.220001      5  0.357143        0.048316   \n",
      "1417   POWL    25.747721  118.529999      5  0.357119        0.030059   \n",
      "1053   LYTS     2.985356   13.660000      5  0.355473        0.029331   \n",
      "\n",
      "      Sharpe_Proxy  \n",
      "1548     17.027365  \n",
      "34       13.060700  \n",
      "290      18.028343  \n",
      "801      12.608311  \n",
      "827      15.313757  \n",
      "133      13.468937  \n",
      "129      20.178010  \n",
      "423      10.961428  \n",
      "1042     15.167358  \n",
      "901      11.785886  \n",
      "1506     13.709612  \n",
      "1542     18.137927  \n",
      "576       9.076377  \n",
      "521      11.113386  \n",
      "1470     12.739082  \n",
      "73       13.313911  \n",
      "15       11.606539  \n",
      "487      16.382922  \n",
      "291      14.188889  \n",
      "321      17.155979  \n",
      "1272     13.412623  \n",
      "490      15.601670  \n",
      "615      25.237883  \n",
      "977      14.767283  \n",
      "1029     26.445843  \n",
      "1623     18.938840  \n",
      "1669      9.450260  \n",
      "1447     15.309898  \n",
      "700      11.698432  \n",
      "368      14.096724  \n",
      "144       8.279731  \n",
      "121      14.255466  \n",
      "1810      9.151959  \n",
      "90       11.890345  \n",
      "1832     13.044320  \n",
      "1059     13.006706  \n",
      "1763      8.708232  \n",
      "879      10.301934  \n",
      "158      11.468605  \n",
      "937      12.681512  \n",
      "876      13.484319  \n",
      "1107     13.852364  \n",
      "506      15.564574  \n",
      "47       12.082526  \n",
      "1130     13.072233  \n",
      "667      13.727723  \n",
      "1819     13.608886  \n",
      "363       7.391819  \n",
      "1417     11.880438  \n",
      "1053     12.119420  \n",
      "     Ticker  Start_Price   End_Price  Years      CAGR  Avg_Volatility  \\\n",
      "1029    LLY   112.723442  645.609985      5  0.417722        0.015795   \n",
      "615     ETN    42.045170  246.080002      5  0.423876        0.016795   \n",
      "129   ATEYY     4.671347   39.730000      5  0.534388        0.026484   \n",
      "54      AJG    70.827850  232.160004      5  0.267992        0.013561   \n",
      "1758    TRI    49.140995  148.619995      5  0.247747        0.013042   \n",
      "1623   SNPS    93.349998  533.349976      5  0.417032        0.022020   \n",
      "413    CPRT    12.657500   48.040001      5  0.305723        0.016228   \n",
      "1940    WST   107.273178  373.029999      5  0.283071        0.015458   \n",
      "1074    MCK   124.053627  499.890015      5  0.321457        0.017685   \n",
      "1542   SAIA    59.970001  450.579987      5  0.496813        0.027391   \n",
      "290    CAMT     6.873127   77.839996      5  0.624837        0.034659   \n",
      "1153   MSFT   101.361595  397.579987      5  0.314348        0.017525   \n",
      "849    HUBB   100.940842  335.570007      5  0.271579        0.015570   \n",
      "321    CDNS    48.029999  288.459991      5  0.431247        0.025137   \n",
      "1548   SAVA     1.170000   23.950001      5  0.829043        0.048689   \n",
      "402    COKE   213.853683  861.390015      5  0.321346        0.018944   \n",
      "443    CTAS    42.452007  151.142502      5  0.289133        0.017049   \n",
      "789     GWW   279.327332  895.640015      5  0.262420        0.015584   \n",
      "258     BRO    26.444288   77.559998      5  0.240113        0.014648   \n",
      "487     DDS    62.307838  387.269989      5  0.441100        0.026924   \n",
      "1292   ODFL    44.450424  195.509995      5  0.344803        0.021088   \n",
      "952     JOE    15.419765   55.200001      5  0.290542        0.017922   \n",
      "408    COST   204.147552  694.880005      5  0.277595        0.017162   \n",
      "1380    PGR    58.287724  178.250000      5  0.250520        0.015807   \n",
      "1934    WRB    19.954954   54.586666      5  0.222946        0.014170   \n",
      "490    DECK    21.408333  125.621666      5  0.424611        0.027216   \n",
      "1116    MLI    11.951561   48.000000      5  0.320576        0.020570   \n",
      "506     DKS    31.305227  149.070007      5  0.366327        0.023536   \n",
      "827     HOV    17.750000  168.970001      5  0.569359        0.037180   \n",
      "1447    PWR    34.934944  194.050003      5  0.409064        0.026719   \n",
      "435     CSL   103.286514  314.260010      5  0.249249        0.016427   \n",
      "1042   LSCC     7.800000   60.860001      5  0.508160        0.033504   \n",
      "1776     TT    73.536781  252.050003      5  0.279371        0.018549   \n",
      "407     COR    72.997375  232.679993      5  0.260928        0.017560   \n",
      "977    KLAC   101.580284  594.039978      5  0.423644        0.028688   \n",
      "12     ACGL    29.350000   82.430000      5  0.229406        0.015547   \n",
      "121    ASML   170.223083  869.820007      5  0.385741        0.027059   \n",
      "291     CAR    26.639999  163.710007      5  0.437832        0.030857   \n",
      "368    CLMB    10.540000   55.220001      5  0.392679        0.027856   \n",
      "1066   MATX    31.415712  112.029999      5  0.289548        0.020597   \n",
      "1525     RS    76.761917  285.420013      5  0.300372        0.021387   \n",
      "1457    QQQ   165.440262  416.970001      5  0.203075        0.014491   \n",
      "704     FSS    21.306767   76.980003      5  0.292921        0.020931   \n",
      "1107    MHO    26.490000  127.419998      5  0.369087        0.026644   \n",
      "579     EME    64.374123  228.110001      5  0.287913        0.020847   \n",
      "667     FIX    46.816536  217.470001      5  0.359565        0.026193   \n",
      "53      AIT    55.571884  176.460007      5  0.259964        0.018951   \n",
      "1506   RMBS     9.020000   68.529999      5  0.500151        0.036482   \n",
      "1381     PH   156.122574  464.500000      5  0.243667        0.017851   \n",
      "1819    UMC     1.671831    7.710000      5  0.357602        0.026277   \n",
      "\n",
      "      Sharpe_Proxy  Annualized_Volatility  \n",
      "1029      7.634257               0.054717  \n",
      "615       7.285549               0.058180  \n",
      "129       5.824890               0.091742  \n",
      "54        5.704871               0.046976  \n",
      "1758      5.483609               0.045180  \n",
      "1623      5.467172               0.076279  \n",
      "413       5.438528               0.056214  \n",
      "1940      5.286311               0.053548  \n",
      "1074      5.247312               0.061261  \n",
      "1542      5.235968               0.094885  \n",
      "290       5.204334               0.120061  \n",
      "1153      5.177993               0.060708  \n",
      "849       5.035294               0.053935  \n",
      "321       4.952505               0.087077  \n",
      "1548      4.915377               0.168663  \n",
      "402       4.896734               0.065625  \n",
      "443       4.895504               0.059061  \n",
      "789       4.860899               0.053986  \n",
      "258       4.731926               0.050743  \n",
      "487       4.729342               0.093269  \n",
      "1292      4.720045               0.073051  \n",
      "952       4.679938               0.062083  \n",
      "408       4.669328               0.059451  \n",
      "1380      4.575003               0.054758  \n",
      "1934      4.542043               0.049085  \n",
      "490       4.503814               0.094278  \n",
      "1116      4.498951               0.071256  \n",
      "506       4.493106               0.081531  \n",
      "827       4.420701               0.128794  \n",
      "1447      4.419587               0.092557  \n",
      "435       4.380171               0.056904  \n",
      "1042      4.378439               0.116060  \n",
      "1776      4.347812               0.064255  \n",
      "407       4.289470               0.060830  \n",
      "977       4.262947               0.099378  \n",
      "12        4.259486               0.053858  \n",
      "121       4.115199               0.093736  \n",
      "291       4.095980               0.106893  \n",
      "368       4.069374               0.096496  \n",
      "1066      4.058153               0.071350  \n",
      "1525      4.054321               0.074087  \n",
      "1457      4.045407               0.050199  \n",
      "704       4.039802               0.072509  \n",
      "1107      3.998833               0.092299  \n",
      "579       3.986807               0.072216  \n",
      "667       3.962852               0.090734  \n",
      "53        3.959916               0.065649  \n",
      "1506      3.957624               0.126376  \n",
      "1381      3.940473               0.061837  \n",
      "1819      3.928547               0.091026  \n"
     ]
    }
   ],
   "source": [
    "# Join volatility (mean over period)\n",
    "avg_vol = monthly_summary.groupby('Ticker')['Monthly_Volatility'].mean().reset_index(name='Avg_Volatility')\n",
    "\n",
    "cagr_ranked = cagr_df.merge(avg_vol, on='Ticker')\n",
    "cagr_ranked['Sharpe_Proxy'] = cagr_ranked['CAGR'] / cagr_ranked['Avg_Volatility']\n",
    "\n",
    "# top performers\n",
    "top_cagr = cagr_ranked.sort_values('CAGR', ascending=False).head(50)\n",
    "cagr_ranked['Sharpe_Proxy'] = cagr_ranked['CAGR'] / (cagr_ranked['Avg_Volatility'])\n",
    "\n",
    "print(top_cagr)\n",
    "print(top_stable)"
   ]
  },
  {
   "cell_type": "code",
   "execution_count": 87,
   "id": "18861957",
   "metadata": {},
   "outputs": [
    {
     "name": "stdout",
     "output_type": "stream",
     "text": [
      "      Ticker  Total_Dividends\n",
      "386     CMCT       507.489001\n",
      "989       KF       442.543320\n",
      "716      FRO       369.010000\n",
      "74       ALX       311.000000\n",
      "427      CRF       268.924514\n",
      "1750     TDW       258.891030\n",
      "276     BXMT       240.220000\n",
      "1277     NRP       230.840000\n",
      "714    FRFHF       199.450000\n",
      "783     GOGL       195.400000\n",
      "374      CLM       166.314981\n",
      "283        C       164.082040\n",
      "1360     OVV       164.024000\n",
      "1669     SOR       155.571000\n",
      "418      CPF       150.560000\n",
      "544       DX       147.210015\n",
      "765      GHC       142.998560\n",
      "1151      MO       136.765660\n",
      "192      BCE       132.989800\n",
      "238      BLK       129.690000\n",
      "257      BPT       128.528864\n",
      "1234     NEU       123.185000\n",
      "449   CTA-PB       122.625000\n",
      "1691     SSP       118.676530\n",
      "626      ESS       118.245500\n",
      "1269     NPK       113.513000\n",
      "610      EQC       109.692000\n",
      "1672     SPG       107.213280\n",
      "1032     LEE       107.030000\n",
      "391   CMS-PB       105.750500\n",
      "1466     PSA       105.020000\n",
      "471      CVX       103.333600\n",
      "147      AVB       102.885000\n",
      "461      CUZ       102.510860\n",
      "507     DHIL       102.000000\n",
      "1051     LMT       101.038720\n",
      "51       AIG        99.698190\n",
      "1548     ROK        98.060770\n",
      "1680      SR        97.756000\n",
      "64       ALE        95.473000\n",
      "1461     PRK        91.653590\n",
      "1915     VLT        89.584000\n",
      "1187     MTR        88.165391\n",
      "448   CTA-PA        86.625000\n",
      "628      ETN        86.222770\n",
      "277      BXP        86.036000\n",
      "718      FRT        83.585000\n",
      "1952    WELL        83.010000\n",
      "540      DUK        82.592170\n",
      "380       CM        82.072400\n"
     ]
    }
   ],
   "source": [
    "top_dividends = (\n",
    "    monthly_summary\n",
    "    .groupby('Ticker')['Total_Dividends']\n",
    "    .sum()\n",
    "    .reset_index()\n",
    "    .sort_values('Total_Dividends', ascending=False)\n",
    "    .head(50)\n",
    ")\n",
    "\n",
    "print(top_dividends)"
   ]
  },
  {
   "cell_type": "code",
   "execution_count": 88,
   "id": "21e232fe",
   "metadata": {},
   "outputs": [
    {
     "name": "stdout",
     "output_type": "stream",
     "text": [
      "       Ticker  Close_Price  Price_3pct_5y  Price_5pct_5y  Price_10pct_5y\n",
      "469009    NVR   997.489990    1156.364285    1273.078083     1606.467604\n",
      "31208    AMNI     1.000000       1.159274       1.276282        1.610510\n",
      "7932     ACUR     1.160000       1.344758       1.480487        1.868192\n",
      "62130     AZO   994.450012    1152.840117    1269.198215     1601.571689\n",
      "410323    MKL   989.979980    1147.658125    1263.493196     1594.372658\n",
      "...       ...          ...            ...            ...             ...\n",
      "200852      E    30.600000      35.473787      39.054216       49.281607\n",
      "594773    SNA   331.959991     384.832612     423.674417      534.624886\n",
      "201261     EA   151.250000     175.340204     193.037586      243.589638\n",
      "206178   EEFT    98.945000     114.704373     126.281679      159.351911\n",
      "727994    ZTR     5.885200       6.822560       7.511172        9.478173\n",
      "\n",
      "[2017 rows x 5 columns]\n"
     ]
    }
   ],
   "source": [
    "latest_prices = monthly_summary.sort_values('YearMonth').groupby('Ticker').tail(1)[['Ticker', 'Close_Price']]\n",
    "\n",
    "# Apply growth rates for 1, 3, 5 years\n",
    "scenarios = latest_prices.copy()\n",
    "scenarios['Price_3pct_5y'] = scenarios['Close_Price'] * (1.03 ** 5)\n",
    "scenarios['Price_5pct_5y'] = scenarios['Close_Price'] * (1.05 ** 5)\n",
    "scenarios['Price_10pct_5y'] = scenarios['Close_Price'] * (1.10 ** 5)\n",
    "\n",
    "print(scenarios)"
   ]
  },
  {
   "cell_type": "code",
   "execution_count": 89,
   "id": "4f3daa68",
   "metadata": {},
   "outputs": [],
   "source": [
    "# Export all important DataFrames for Tableau\n",
    "monthly_summary.to_csv(\"monthly_summary.csv\", index=False)\n",
    "cagr_df.to_csv(\"cagr_df.csv\", index=False)\n",
    "cagr_ranked.to_csv(\"cagr_ranked.csv\", index=False)\n",
    "rolling_cagr.to_csv(\"rolling_cagr.csv\", index=False)\n",
    "scenarios.to_csv(\"scenarios.csv\", index=False)\n",
    "top_cagr.to_csv(\"top_cagr.csv\", index=False)\n",
    "top_stable.to_csv(\"top_stable.csv\", index=False)\n"
   ]
  }
 ],
 "metadata": {
  "kernelspec": {
   "display_name": "Python 3",
   "language": "python",
   "name": "python3"
  },
  "language_info": {
   "codemirror_mode": {
    "name": "ipython",
    "version": 3
   },
   "file_extension": ".py",
   "mimetype": "text/x-python",
   "name": "python",
   "nbconvert_exporter": "python",
   "pygments_lexer": "ipython3",
   "version": "3.11.9"
  }
 },
 "nbformat": 4,
 "nbformat_minor": 5
}
